{
 "cells": [
  {
   "cell_type": "code",
   "execution_count": 23,
   "id": "4d2b49eb-7757-498e-a645-2ce9647ccaa7",
   "metadata": {},
   "outputs": [],
   "source": [
    "import pandas as pd "
   ]
  },
  {
   "cell_type": "code",
   "execution_count": 5,
   "id": "d78a45bc-2270-4410-9028-37a16bbc1172",
   "metadata": {},
   "outputs": [],
   "source": [
    "m = pd.read_pickle('house_prize.pkl')"
   ]
  },
  {
   "cell_type": "code",
   "execution_count": 6,
   "id": "9772ffa7-fd7b-4088-8ada-d222877d8276",
   "metadata": {},
   "outputs": [
    {
     "data": {
      "text/plain": [
       "LinearRegression()"
      ]
     },
     "execution_count": 6,
     "metadata": {},
     "output_type": "execute_result"
    }
   ],
   "source": [
    "m"
   ]
  },
  {
   "cell_type": "code",
   "execution_count": 17,
   "id": "ed727c94-1453-486e-abca-ef8f8cdd4a42",
   "metadata": {},
   "outputs": [
    {
     "name": "stdin",
     "output_type": "stream",
     "text": [
      "Enter Income: 34000\n",
      "Enter House Age: 4\n",
      "Enter Number of Rooms : 10\n",
      "Enter Number of Bed Rooms : 4\n",
      "Enter Area Population : 400000\n"
     ]
    }
   ],
   "source": [
    "inc = eval(input(\"Enter Income:\"))\n",
    "age = eval(input(\"Enter House Age:\"))\n",
    "room = eval(input(\"Enter Number of Rooms :\"))\n",
    "broom = eval(input(\"Enter Number of Bed Rooms :\"))\n",
    "pop = eval(input(\"Enter Area Population :\"))\n",
    "\n",
    "query = pd.DataFrame({'Income':[inc],'House_age':[age],'Number_of_rooms':[room],'Number_of_Bed_rooms':[broom],'populatoin':[pop]})"
   ]
  },
  {
   "cell_type": "code",
   "execution_count": 18,
   "id": "69a12208-3b9f-4542-8fd0-61f2b2d01e68",
   "metadata": {},
   "outputs": [
    {
     "data": {
      "text/html": [
       "<div>\n",
       "<style scoped>\n",
       "    .dataframe tbody tr th:only-of-type {\n",
       "        vertical-align: middle;\n",
       "    }\n",
       "\n",
       "    .dataframe tbody tr th {\n",
       "        vertical-align: top;\n",
       "    }\n",
       "\n",
       "    .dataframe thead th {\n",
       "        text-align: right;\n",
       "    }\n",
       "</style>\n",
       "<table border=\"1\" class=\"dataframe\">\n",
       "  <thead>\n",
       "    <tr style=\"text-align: right;\">\n",
       "      <th></th>\n",
       "      <th>Income</th>\n",
       "      <th>House_age</th>\n",
       "      <th>Number_of_rooms</th>\n",
       "      <th>Number_of_Bed_rooms</th>\n",
       "      <th>populatoin</th>\n",
       "    </tr>\n",
       "  </thead>\n",
       "  <tbody>\n",
       "    <tr>\n",
       "      <th>0</th>\n",
       "      <td>34000</td>\n",
       "      <td>4</td>\n",
       "      <td>10</td>\n",
       "      <td>4</td>\n",
       "      <td>400000</td>\n",
       "    </tr>\n",
       "  </tbody>\n",
       "</table>\n",
       "</div>"
      ],
      "text/plain": [
       "   Income  House_age  Number_of_rooms  Number_of_Bed_rooms  populatoin\n",
       "0   34000          4               10                    4      400000"
      ]
     },
     "execution_count": 18,
     "metadata": {},
     "output_type": "execute_result"
    }
   ],
   "source": [
    "query"
   ]
  },
  {
   "cell_type": "code",
   "execution_count": 22,
   "id": "2486e1a7-975e-44ca-8355-4cc63736f86c",
   "metadata": {},
   "outputs": [
    {
     "name": "stderr",
     "output_type": "stream",
     "text": [
      "C:\\Users\\INTEL\\anaconda3\\lib\\site-packages\\sklearn\\base.py:493: FutureWarning: The feature names should match those that were passed during fit. Starting version 1.2, an error will be raised.\n",
      "Feature names unseen at fit time:\n",
      "- House_age\n",
      "- Income\n",
      "- Number_of_Bed_rooms\n",
      "- Number_of_rooms\n",
      "- populatoin\n",
      "Feature names seen at fit time, yet now missing:\n",
      "- Area Population\n",
      "- Avg. Area House Age\n",
      "- Avg. Area Income\n",
      "- Avg. Area Number of Bedrooms\n",
      "- Avg. Area Number of Rooms\n",
      "\n",
      "  warnings.warn(message, FutureWarning)\n"
     ]
    },
    {
     "data": {
      "text/plain": [
       "6072174.13"
      ]
     },
     "execution_count": 22,
     "metadata": {},
     "output_type": "execute_result"
    }
   ],
   "source": [
    "round(m.predict(query)[0],2)"
   ]
  },
  {
   "cell_type": "code",
   "execution_count": null,
   "id": "663b1408-dfb4-4b43-b420-c852fe66fdba",
   "metadata": {},
   "outputs": [],
   "source": []
  }
 ],
 "metadata": {
  "kernelspec": {
   "display_name": "Python 3 (ipykernel)",
   "language": "python",
   "name": "python3"
  },
  "language_info": {
   "codemirror_mode": {
    "name": "ipython",
    "version": 3
   },
   "file_extension": ".py",
   "mimetype": "text/x-python",
   "name": "python",
   "nbconvert_exporter": "python",
   "pygments_lexer": "ipython3",
   "version": "3.9.12"
  }
 },
 "nbformat": 4,
 "nbformat_minor": 5
}
